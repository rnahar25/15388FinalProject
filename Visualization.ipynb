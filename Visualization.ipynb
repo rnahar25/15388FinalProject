{
 "cells": [
  {
   "cell_type": "code",
   "execution_count": 1,
   "metadata": {},
   "outputs": [],
   "source": [
    "# from plotnine import *\n",
    "import pandas as pd \n",
    "import numpy as np"
   ]
  },
  {
   "cell_type": "code",
   "execution_count": 2,
   "metadata": {
    "collapsed": true
   },
   "outputs": [],
   "source": [
    "from sklearn.feature_extraction.text import TfidfVectorizer\n",
    "# list of text documents\n",
    "\n",
    "def toTfidf(text):\n",
    "    vectorizer = TfidfVectorizer(stop_words = \"english\")\n",
    "    # tokenize and build vocab\n",
    "    return (vectorizer.fit_transform(text))"
   ]
  },
  {
   "cell_type": "code",
   "execution_count": 3,
   "metadata": {
    "collapsed": true
   },
   "outputs": [],
   "source": [
    "youtube_data = pd.read_csv(\"video_data_final.csv\", encoding = \"ISO-8859-1\")"
   ]
  },
  {
   "cell_type": "code",
   "execution_count": null,
   "metadata": {},
   "outputs": [],
   "source": [
    "ggplot(youtube_data, aes(y = \"viewCount\", x = '1')) + \\\n",
    "    geom_boxplot(alpha = 0.5) + \\\n",
    "    scale_y_log10()"
   ]
  },
  {
   "cell_type": "code",
   "execution_count": 5,
   "metadata": {},
   "outputs": [
    {
     "data": {
      "text/plain": [
       "count    9.219100e+04\n",
       "mean     6.946795e+04\n",
       "std      1.248694e+06\n",
       "min      0.000000e+00\n",
       "25%      2.240000e+03\n",
       "50%      4.942000e+03\n",
       "75%      1.573100e+04\n",
       "max      1.832004e+08\n",
       "Name: viewCount, dtype: float64"
      ]
     },
     "execution_count": 5,
     "metadata": {},
     "output_type": "execute_result"
    }
   ],
   "source": [
    "youtube_data[\"viewCount\"].describe()"
   ]
  },
  {
   "cell_type": "code",
   "execution_count": 6,
   "metadata": {},
   "outputs": [],
   "source": [
    "outlier_start = 1.5*(15731.00 - 2240.000) + 15731.00 #1.5(IQR) + 75th quartile\n",
    "nonOutliers = youtube_data[youtube_data[\"viewCount\"] <= outlier_start]\n",
    "youtube_data['outlier'] = np.where(youtube_data['viewCount']>=outlier_start, 'outlier', 'notOutlier')"
   ]
  },
  {
   "cell_type": "code",
   "execution_count": null,
   "metadata": {
    "collapsed": true
   },
   "outputs": [],
   "source": [
    "ggplot(df1, aes(y = \"viewCount\", x = '1')) + \\\n",
    "    geom_boxplot(alpha = 0.5) + scale_y_log10()"
   ]
  },
  {
   "cell_type": "code",
   "execution_count": 7,
   "metadata": {
    "collapsed": true
   },
   "outputs": [],
   "source": [
    "allTitles = list(youtube_data['title'])\n",
    "tfidf = toTfidf(allTitles)"
   ]
  },
  {
   "cell_type": "code",
   "execution_count": null,
   "metadata": {},
   "outputs": [],
   "source": []
  },
  {
   "cell_type": "code",
   "execution_count": 8,
   "metadata": {
    "collapsed": true
   },
   "outputs": [],
   "source": [
    "def toFeatures(text):\n",
    "    result = []\n",
    "    for word in text.split():\n",
    "        if (word in tfidf):\n",
    "            result.append(tfidf[word])\n",
    "        else:\n",
    "            print(word)\n",
    "    return result"
   ]
  },
  {
   "cell_type": "code",
   "execution_count": 9,
   "metadata": {
    "collapsed": true
   },
   "outputs": [],
   "source": [
    "def getFeatures(tfidf, tfidf_type):\n",
    "    result = []\n",
    "    for i in range(tfidf.shape[0]):\n",
    "        vector = tfidf[i]\n",
    "        if (tfidf_type == 'min'):\n",
    "            result.append(np.min(vector))\n",
    "        elif (tfidf_type == 'max'):\n",
    "            result.append(np.max(vector))\n",
    "        else:\n",
    "            #average\n",
    "            result.append(np.mean(vector))\n",
    "    return pd.Series(result)"
   ]
  },
  {
   "cell_type": "code",
   "execution_count": 10,
   "metadata": {
    "collapsed": true
   },
   "outputs": [],
   "source": [
    "youtube_data['mean_title'] = getFeatures(tfidf, 'mean')"
   ]
  },
  {
   "cell_type": "code",
   "execution_count": 11,
   "metadata": {
    "collapsed": true
   },
   "outputs": [],
   "source": [
    "youtube_data['max_title'] = getFeatures(tfidf, 'max')"
   ]
  },
  {
   "cell_type": "code",
   "execution_count": 12,
   "metadata": {
    "collapsed": true
   },
   "outputs": [],
   "source": [
    "youtube_data['min_title'] = getFeatures(tfidf, 'min')"
   ]
  },
  {
   "cell_type": "code",
   "execution_count": 13,
   "metadata": {
    "collapsed": true
   },
   "outputs": [],
   "source": [
    "top_topics = ['Game', 'Vehicle', 'Video game', 'Concert', 'Car', 'Animation', 'Musician', 'Dance', 'Music video', 'Motorsport']\n",
    "\n",
    "def numberCommon(topicsStr, top_topics):\n",
    "    num = 0\n",
    "    for word in top_topics:\n",
    "        if word in topicsStr:\n",
    "            num += 1\n",
    "    return num\n",
    "    "
   ]
  },
  {
   "cell_type": "code",
   "execution_count": 14,
   "metadata": {
    "collapsed": true
   },
   "outputs": [],
   "source": [
    "youtube_data['topics_features'] = youtube_data['topics'].apply(lambda topics : numberCommon(topics, top_topics))\n",
    "youtube_data['game'] = youtube_data['topics'].apply(lambda topics : 1 if 'Game' in topics else 0)\n",
    "youtube_data['vehicle'] = youtube_data['topics'].apply(lambda topics : 1 if 'Vehicle' in topics else 0)\n",
    "youtube_data['video_game'] = youtube_data['topics'].apply(lambda topics : 1 if 'Video game' in topics else 0)\n",
    "youtube_data['concert'] = youtube_data['topics'].apply(lambda topics : 1 if 'Concert' in topics else 0)\n",
    "youtube_data['car'] = youtube_data['topics'].apply(lambda topics : 1 if 'Car' in topics else 0)"
   ]
  },
  {
   "cell_type": "code",
   "execution_count": null,
   "metadata": {},
   "outputs": [],
   "source": [
    "ggplot(youtube_data, aes(y = \"viewCount\", x = 'factor(topics_features)')) + \\\n",
    "    geom_boxplot(alpha = 0.5) + \\\n",
    "    scale_y_log10()"
   ]
  },
  {
   "cell_type": "code",
   "execution_count": null,
   "metadata": {},
   "outputs": [],
   "source": [
    "ggplot(youtube_data, aes(y = \"viewCount\", x = 'factor(game)')) + \\\n",
    "    geom_boxplot(alpha = 0.5) + \\\n",
    "    scale_y_log10()"
   ]
  },
  {
   "cell_type": "code",
   "execution_count": null,
   "metadata": {},
   "outputs": [],
   "source": [
    "ggplot(youtube_data, aes(y = \"viewCount\", x = 'factor(vehicle)')) + \\\n",
    "    geom_boxplot(alpha = 0.5) + \\\n",
    "    scale_y_log10()"
   ]
  },
  {
   "cell_type": "code",
   "execution_count": null,
   "metadata": {},
   "outputs": [],
   "source": [
    "ggplot(youtube_data, aes(y = \"viewCount\", x = 'factor(video_game)')) + \\\n",
    "    geom_boxplot(alpha = 0.5) + \\\n",
    "    scale_y_log10()"
   ]
  },
  {
   "cell_type": "code",
   "execution_count": null,
   "metadata": {},
   "outputs": [],
   "source": [
    "ggplot(youtube_data, aes(y = \"viewCount\", x = 'factor(concert)')) + \\\n",
    "    geom_boxplot(alpha = 0.5) + \\\n",
    "    scale_y_log10()"
   ]
  },
  {
   "cell_type": "code",
   "execution_count": null,
   "metadata": {},
   "outputs": [],
   "source": [
    "ggplot(youtube_data, aes(y = \"viewCount\", x = 'factor(car)')) + \\\n",
    "    geom_boxplot(alpha = 0.5) + \\\n",
    "    scale_y_log10()"
   ]
  },
  {
   "cell_type": "code",
   "execution_count": null,
   "metadata": {},
   "outputs": [],
   "source": [
    "ggplot(youtube_data, aes(x = \"min_title\", y = \"viewCount\", color = \"outlier\")) + \\\n",
    "    geom_point() + \\\n",
    "    scale_y_log10()"
   ]
  },
  {
   "cell_type": "code",
   "execution_count": null,
   "metadata": {},
   "outputs": [],
   "source": [
    "ggplot(youtube_data, aes(x = \"mean_title\", y = \"viewCount\", color = \"outlier\")) + \\\n",
    "    geom_point() + \\\n",
    "    scale_y_log10()"
   ]
  },
  {
   "cell_type": "code",
   "execution_count": null,
   "metadata": {},
   "outputs": [],
   "source": [
    "ggplot(youtube_data, aes(x = \"max_title\", y = \"viewCount\")) + \\\n",
    "    geom_point() + \\\n",
    "    scale_y_log10() + facet_wrap(\"outlier\", scales=\"free\")"
   ]
  },
  {
   "cell_type": "code",
   "execution_count": null,
   "metadata": {},
   "outputs": [],
   "source": [
    "ggplot(youtube_data, aes(x = \"likeCount\", y = \"viewCount\",)) + \\\n",
    "    geom_point() + \\\n",
    "    scale_x_log10() + \\\n",
    "    scale_y_log10() + facet_wrap(\"outlier\", scales=\"free\")"
   ]
  },
  {
   "cell_type": "code",
   "execution_count": null,
   "metadata": {},
   "outputs": [],
   "source": [
    "ggplot(youtube_data, aes(x = \"dislikeCount\", y = \"viewCount\")) + \\\n",
    "    geom_point() + \\\n",
    "    scale_x_log10() + \\\n",
    "    scale_y_log10() "
   ]
  },
  {
   "cell_type": "code",
   "execution_count": null,
   "metadata": {},
   "outputs": [],
   "source": [
    "ggplot(youtube_data, aes(x = \"commentCount\", y = \"viewCount\")) + \\\n",
    "    geom_point() + \\\n",
    "    scale_x_log10() + \\\n",
    "    scale_y_log10()"
   ]
  },
  {
   "cell_type": "code",
   "execution_count": 15,
   "metadata": {
    "collapsed": true
   },
   "outputs": [],
   "source": [
    "import nltk\n",
    "\n",
    "youtube_data['pos_tags'] = youtube_data['title'].apply(lambda t: nltk.pos_tag(t))"
   ]
  },
  {
   "cell_type": "code",
   "execution_count": 16,
   "metadata": {
    "scrolled": true
   },
   "outputs": [
    {
     "name": "stdout",
     "output_type": "stream",
     "text": [
      "0        [(L, NNP), (i, NN), (e, NN), (b, NN), (h, NN),...\n",
      "1        [(R, NN), (i, NN), (t, VBP), (a, DT), ( , NN),...\n",
      "2        [(S, NNP), (y, PRP), (l, VBP), (v, FW), (a, DT...\n",
      "3        [(a, DT), (f, JJ), (t, NN), (e, NN), (r, NN), ...\n",
      "4        [(S, NNP), (e, NN), (r, NN), (e, NN), (n, IN),...\n",
      "5        [(E, NNP), (l, NN), (l, NN), (e, NN), (n, JJ),...\n",
      "6        [(A, DT), (r, NN), (k, NN), (h, VBD), (a, DT),...\n",
      "7        [(D, NNP), (r, VBZ), (a, DT), (w, NN), (i, NN)...\n",
      "8        [(P, NNP), (H, NNP), (I, PRP), (L, NNP), ( , N...\n",
      "9        [(S, NNP), (t, VBZ), (a, DT), (r, NN), ( , NN)...\n",
      "10       [(C, NNP), (H, NNP), (A, NNP), (I, PRP), (R, N...\n",
      "11       [(N, NNP), (e, NN), (e, NN), (d, NN), ( , NNP)...\n",
      "12       [(M, NNP), (y, PRP), ( , NNP), (T, NNP), (a, D...\n",
      "13       [(i, NN), (o, VBP), (n, NN), (i, NN), (k, VBP)...\n",
      "14       [(S, NNP), (H, NNP), (I, PRP), (N, NNP), (e, V...\n",
      "15       [(W, NNP), (H, NNP), (Y, NNP), ( , NNP), (I, P...\n",
      "16       [(W, IN), (a, DT), (i, NN), (a, DT), (l, NN), ...\n",
      "17       [(R, VB), (A, NNP), (M, NNP), (P, NNP), (L, NN...\n",
      "18       [(A, DT), (p, NN), (p, NN), (l, NN), (e, NN), ...\n",
      "19       [(N, NNP), (E, NNP), (W, NNP), ( , NNP), (M, N...\n",
      "20       [(1, CD), ( , JJ), (s, NN), (t, NN), (e, NN), ...\n",
      "21       [(F, NNP), (i, NN), (n, VBP), (a, DT), (l, NN)...\n",
      "22       [(H, NNP), (o, MD), (w, VB), ( , NNP), (T, NNP...\n",
      "23       [(M, NNP), (u, JJ), (s, NN), (i, NN), (c, VBP)...\n",
      "24       [(A, DT), (n, JJ), (d, NN), (r, NN), (o, NN), ...\n",
      "25       [(L, NNP), (e, NN), (g, NN), (e, NN), (n, JJ),...\n",
      "26       [(W, NNP), (o, MD), (l, VB), (v, NN), (e, NN),...\n",
      "27       [(C, NNP), (l, NN), (u, NN), (b, NN), ( , NNP)...\n",
      "28       [(D, NNP), (V, NNP), (D, NNP), ( , NNP), (C, N...\n",
      "29       [(G, NNP), (o, MD), (P, NNP), (r, VB), (o, JJ)...\n",
      "                               ...                        \n",
      "92161    [(F, NNP), (S, NNP), ( , NNP), (S, NNP), (e, V...\n",
      "92162    [(R, NNP), (o, MD), (n, VB), (n, JJ), (i, NN),...\n",
      "92163    [(T, NNP), (w, NN), (i, NN), (l, VBP), (i, NN)...\n",
      "92164    [(M, NNP), (W, NNP), (3, CD), (:, :), ( , NN),...\n",
      "92165    [(H, NNP), (i, NN), (p, VBP), (p, NN), (o, NN)...\n",
      "92166    [(B, NNP), (i, NN), (l, NN), (l, NN), ( , NNP)...\n",
      "92167    [(F, NNP), (a, DT), (Z, NNP), (e, NN), (C, NNP...\n",
      "92168    [(H, NNP), (o, MD), (w, VB), ( , NNP), (D, NNP...\n",
      "92169    [(P, NNP), (M, NNP), (M, NNP), (P, NNP), ( , N...\n",
      "92170    [(T, NNP), (r, NN), (i, NN), (b, VBP), (u, JJ)...\n",
      "92171    [(4, CD), (., .), (5, CD), (h, JJ), (p, NN), (...\n",
      "92172    [(D, NNP), (D, NNP), (R, NNP), ( , NNP), (M, N...\n",
      "92173    [(W, NNP), (e, NN), (s, NN), (t, IN), (l, NN),...\n",
      "92174    [(M, NNP), (a, DT), (r, NN), (v, NN), (e, NN),...\n",
      "92175    [(G, NNP), (o, MD), (d, VB), (z, NN), (i, NN),...\n",
      "92176    [(F, NNP), (i, NN), (f, VBP), (a, DT), ( , JJ)...\n",
      "92177    [(W, NNP), (h, VBD), (a, DT), (t, NN), (', POS...\n",
      "92178    [(S, NNP), (C, NNP), (2, CD), (4, CD), (., .),...\n",
      "92179    [(L, NNP), (D, NNP), (F, NNP), (F, NNP), ( , N...\n",
      "92180    [(5, CD), ( , JJ), (o, NN), (f, NN), ( , VBD),...\n",
      "92181    [(D, NNP), (r, VBZ), (a, DT), (w, NN), (i, NN)...\n",
      "92182    [(R, NNP), (u, NN), (b, NN), (e, NN), (n, JJ),...\n",
      "92183    [(V, NNP), (i, NN), (r, VBP), (t, NN), (u, NN)...\n",
      "92184    [(\", JJ), (P, NNP), (i, NN), (l, VBP), (l, NN)...\n",
      "92185    [(N, NNP), (e, NN), (w, NN), ( , NNP), (S, NNP...\n",
      "92186    [(B, NNP), (u, JJ), (r, NN), (n, NN), (i, NN),...\n",
      "92187    [(P, NNP), (S, NNP), (3, CD), ( , NNP), (S, NN...\n",
      "92188    [(M, NNP), (i, NN), (s, VBP), (t, NN), (a, DT)...\n",
      "92189    [(T, NNP), (o, MD), (t, VB), (a, DT), (l, NN),...\n",
      "92190    [(0, CD), (6, CD), ( , SYM), (-, :), ( , NN), ...\n",
      "Name: pos_tags, Length: 92191, dtype: object\n"
     ]
    }
   ],
   "source": [
    "print(youtube_data['pos_tags'])"
   ]
  },
  {
   "cell_type": "code",
   "execution_count": 17,
   "metadata": {
    "collapsed": true
   },
   "outputs": [],
   "source": [
    "from collections import Counter\n",
    "\n",
    "youtube_data['pos_freq'] = youtube_data['pos_tags'].apply(lambda l: Counter([tag for (word, tag) in l]))"
   ]
  },
  {
   "cell_type": "code",
   "execution_count": 18,
   "metadata": {
    "scrolled": true
   },
   "outputs": [
    {
     "name": "stdout",
     "output_type": "stream",
     "text": [
      "0        {'NNP': 9, 'NN': 31, 'VBD': 1, 'CD': 2, 'SYM':...\n",
      "1        {'NN': 17, 'VBP': 4, 'DT': 2, 'NNP': 14, 'VBZ'...\n",
      "2        {'NNP': 6, 'PRP': 1, 'VBP': 1, 'FW': 1, 'DT': ...\n",
      "3         {'DT': 3, 'JJ': 1, 'NN': 12, 'VBZ': 2, 'NNP': 1}\n",
      "4        {'NNP': 22, 'NN': 24, 'IN': 2, 'DT': 7, 'MD': ...\n",
      "5        {'NNP': 15, 'NN': 9, 'JJ': 2, 'VBZ': 2, 'DT': ...\n",
      "6        {'DT': 2, 'NN': 6, 'VBD': 1, 'NNP': 2, 'MD': 1...\n",
      "7        {'NNP': 14, 'VBZ': 1, 'DT': 1, 'NN': 21, 'VBP'...\n",
      "8        {'NNP': 37, 'PRP': 3, 'NN': 19, 'VBP': 3, 'JJ'...\n",
      "9        {'NNP': 10, 'VBZ': 2, 'DT': 3, 'NN': 13, 'PRP'...\n",
      "10       {'NNP': 17, 'PRP': 1, ':': 1, 'NN': 6, 'DT': 1...\n",
      "11       {'NNP': 14, 'NN': 26, 'MD': 2, 'VB': 2, ':': 2...\n",
      "12       {'NNP': 19, 'PRP': 1, 'DT': 3, 'NN': 21, 'JJ':...\n",
      "13       {'NN': 30, 'VBP': 2, 'JJ': 2, 'NNP': 6, 'VBZ':...\n",
      "14       {'NNP': 12, 'PRP': 2, 'VBD': 1, 'JJ': 1, ':': ...\n",
      "15       {'NNP': 34, 'PRP': 2, 'VBP': 1, 'JJ': 1, 'NN':...\n",
      "16       {'IN': 2, 'DT': 3, 'NN': 15, 'VBZ': 1, 'NNP': ...\n",
      "17       {'VB': 2, 'NNP': 5, '$': 1, 'CD': 1, '.': 1, '...\n",
      "18       {'DT': 2, 'NN': 18, 'NNP': 14, 'VBD': 2, 'VBZ'...\n",
      "19       {'NNP': 15, 'MD': 1, 'VB': 2, 'DT': 3, 'NN': 1...\n",
      "20       {'CD': 2, 'JJ': 1, 'NN': 17, 'NNP': 3, 'VBZ': ...\n",
      "21       {'NNP': 12, 'NN': 16, 'VBP': 5, 'DT': 5, 'JJ':...\n",
      "22       {'NNP': 15, 'MD': 4, 'VB': 4, 'FW': 1, 'NN': 2...\n",
      "23       {'NNP': 3, 'JJ': 1, 'NN': 4, 'VBP': 1, 'DT': 2...\n",
      "24       {'DT': 2, 'JJ': 4, 'NN': 25, 'VBP': 3, 'NNP': ...\n",
      "25       {'NNP': 14, 'NN': 21, 'JJ': 4, 'VBZ': 1, 'DT':...\n",
      "26       {'NNP': 11, 'MD': 1, 'VB': 1, 'NN': 38, 'VBD':...\n",
      "27       {'NNP': 9, 'NN': 13, 'RB': 1, 'JJ': 3, 'VBP': ...\n",
      "28       {'NNP': 13, 'MD': 1, 'VB': 1, 'JJ': 1, 'NN': 1...\n",
      "29       {'NNP': 9, 'MD': 1, 'VB': 1, 'JJ': 1, 'NN': 17...\n",
      "                               ...                        \n",
      "92161    {'NNP': 6, 'VBP': 4, 'NN': 15, 'DT': 4, 'SYM':...\n",
      "92162    {'NNP': 4, 'MD': 1, 'VB': 1, 'JJ': 5, 'NN': 16...\n",
      "92163    {'NNP': 7, 'NN': 9, 'VBP': 2, 'DT': 3, ':': 1,...\n",
      "92164    {'NNP': 5, 'CD': 1, ':': 1, 'NN': 17, 'VBP': 2...\n",
      "92165    {'NNP': 6, 'NN': 9, 'VBP': 3, 'DT': 1, 'JJ': 2...\n",
      "92166    {'NNP': 8, 'NN': 15, 'MD': 1, 'VB': 1, 'JJ': 4...\n",
      "92167    {'NNP': 13, 'DT': 3, 'NN': 26, 'VBZ': 1, ':': ...\n",
      "92168    {'NNP': 8, 'MD': 3, 'VB': 3, 'JJ': 1, '$': 1, ...\n",
      "92169    {'NNP': 10, ':': 1, 'NN': 8, 'DT': 1, 'JJ': 3,...\n",
      "92170    {'NNP': 4, 'NN': 9, 'VBP': 1, 'JJ': 2, 'MD': 1...\n",
      "92171    {'CD': 2, '.': 1, 'JJ': 3, 'NN': 13, 'NNP': 3,...\n",
      "92172                 {'NNP': 9, 'CD': 6, '.': 1, 'JJ': 1}\n",
      "92173    {'NNP': 10, 'NN': 31, 'IN': 1, 'VBP': 3, 'VBD'...\n",
      "92174    {'NNP': 18, 'DT': 5, 'NN': 28, 'JJ': 7, 'VBD':...\n",
      "92175    {'NNP': 17, 'MD': 2, 'VB': 2, 'NN': 40, 'VBP':...\n",
      "92176    {'NNP': 12, 'NN': 12, 'VBP': 2, 'DT': 3, 'JJ':...\n",
      "92177    {'NNP': 14, 'VBD': 1, 'DT': 4, 'NN': 25, 'POS'...\n",
      "92178    {'NNP': 10, 'CD': 4, '.': 1, 'VB': 1, 'JJ': 3,...\n",
      "92179    {'NNP': 15, 'VBZ': 2, 'DT': 2, 'JJ': 2, 'NN': ...\n",
      "92180    {'CD': 2, 'JJ': 2, 'NN': 38, 'VBD': 2, 'NNP': ...\n",
      "92181    {'NNP': 8, 'VBZ': 1, 'DT': 3, 'NN': 14, 'VBP':...\n",
      "92182    {'NNP': 5, 'NN': 23, 'JJ': 4, 'VBZ': 2, 'VBP':...\n",
      "92183    {'NNP': 9, 'NN': 6, 'VBP': 2, 'DT': 1, 'JJ': 2...\n",
      "92184    {'JJ': 7, 'NNP': 17, 'NN': 25, 'VBP': 4, 'DT':...\n",
      "92185    {'NNP': 11, 'NN': 19, 'JJ': 1, 'DT': 1, 'VBP':...\n",
      "92186    {'NNP': 3, 'JJ': 2, 'NN': 12, 'VBP': 3, 'DT': ...\n",
      "92187    {'NNP': 9, 'CD': 2, 'DT': 2, 'JJ': 3, 'NN': 9,...\n",
      "92188    {'NNP': 15, 'NN': 34, 'VBP': 6, 'DT': 3, ':': ...\n",
      "92189    {'NNP': 14, 'MD': 1, 'VB': 1, 'DT': 5, 'NN': 2...\n",
      "92190    {'CD': 2, 'SYM': 1, ':': 1, 'NN': 15, 'NNP': 1...\n",
      "Name: pos_freq, Length: 92191, dtype: object\n"
     ]
    }
   ],
   "source": [
    "print(youtube_data['pos_freq'])"
   ]
  },
  {
   "cell_type": "code",
   "execution_count": 19,
   "metadata": {
    "collapsed": true
   },
   "outputs": [],
   "source": [
    "youtube_data['title_CC'] = youtube_data['pos_freq'].apply(lambda C: C['CC'])\n",
    "youtube_data['title_CD'] = youtube_data['pos_freq'].apply(lambda C: C['CD'])\n",
    "youtube_data['title_DT'] = youtube_data['pos_freq'].apply(lambda C: C['DT'])\n",
    "youtube_data['title_EX'] = youtube_data['pos_freq'].apply(lambda C: C['EX'])\n",
    "youtube_data['title_IN'] = youtube_data['pos_freq'].apply(lambda C: C['IN'])\n",
    "youtube_data['title_JJ'] = youtube_data['pos_freq'].apply(lambda C: C['JJ'])\n",
    "youtube_data['title_JJR'] = youtube_data['pos_freq'].apply(lambda C: C['JJR'])\n",
    "youtube_data['title_JJS'] = youtube_data['pos_freq'].apply(lambda C: C['JJS'])\n",
    "youtube_data['title_LS'] = youtube_data['pos_freq'].apply(lambda C: C['LS'])\n",
    "youtube_data['title_MD'] = youtube_data['pos_freq'].apply(lambda C: C['MD'])\n",
    "youtube_data['title_NN'] = youtube_data['pos_freq'].apply(lambda C: C['NN'])\n",
    "youtube_data['title_NNP'] = youtube_data['pos_freq'].apply(lambda C: C['NNP'])\n",
    "youtube_data['title_NNS'] = youtube_data['pos_freq'].apply(lambda C: C['NNS'])\n",
    "youtube_data['title_PDT'] = youtube_data['pos_freq'].apply(lambda C: C['PDT'])\n",
    "youtube_data['title_POS'] = youtube_data['pos_freq'].apply(lambda C: C['POS'])\n",
    "youtube_data['title_PRP'] = youtube_data['pos_freq'].apply(lambda C: C['PRP'])\n",
    "youtube_data['title_PRP$'] = youtube_data['pos_freq'].apply(lambda C: C['PRP$'])\n",
    "youtube_data['title_RB'] = youtube_data['pos_freq'].apply(lambda C: C['RB'])\n",
    "youtube_data['title_RBR'] = youtube_data['pos_freq'].apply(lambda C: C['RBR'])\n",
    "youtube_data['title_RBS'] = youtube_data['pos_freq'].apply(lambda C: C['RBS'])\n",
    "youtube_data['title_RP'] = youtube_data['pos_freq'].apply(lambda C: C['RP'])\n",
    "youtube_data['title_TO'] = youtube_data['pos_freq'].apply(lambda C: C['TO'])\n",
    "youtube_data['title_UH'] = youtube_data['pos_freq'].apply(lambda C: C['UH'])\n",
    "youtube_data['title_VB'] = youtube_data['pos_freq'].apply(lambda C: C['VB'])\n",
    "youtube_data['title_VBD'] = youtube_data['pos_freq'].apply(lambda C: C['VBD'])\n",
    "youtube_data['title_VBG'] = youtube_data['pos_freq'].apply(lambda C: C['VBG'])\n",
    "youtube_data['title_VBN'] = youtube_data['pos_freq'].apply(lambda C: C['VBN'])\n",
    "youtube_data['title_VBP'] = youtube_data['pos_freq'].apply(lambda C: C['VBP'])\n",
    "youtube_data['title_VBZ'] = youtube_data['pos_freq'].apply(lambda C: C['VBZ'])\n",
    "youtube_data['title_WDT'] = youtube_data['pos_freq'].apply(lambda C: C['WDT'])\n",
    "youtube_data['title_WP'] = youtube_data['pos_freq'].apply(lambda C: C['WP'])\n",
    "youtube_data['title_WRB'] = youtube_data['pos_freq'].apply(lambda C: C['WRB'])"
   ]
  },
  {
   "cell_type": "code",
   "execution_count": 20,
   "metadata": {},
   "outputs": [
    {
     "name": "stdout",
     "output_type": "stream",
     "text": [
      "4 36 17 0 6 17 1 0 1 7 67 197 5 2 7 12 1 6 1 0 2 1 1 8 16 2 0 14 10 0 4 2\n"
     ]
    }
   ],
   "source": [
    "print(youtube_data['title_CC'].max(), youtube_data['title_CD'].max(), youtube_data['title_DT'].max(), youtube_data['title_EX'].max(),\n",
    "     youtube_data['title_IN'].max(), youtube_data['title_JJ'].max(), youtube_data['title_JJR'].max(), youtube_data['title_JJS'].max(),\n",
    "     youtube_data['title_LS'].max(), youtube_data['title_MD'].max(), youtube_data['title_NN'].max(), youtube_data['title_NNP'].max(),\n",
    "     youtube_data['title_NNS'].max(), youtube_data['title_PDT'].max(), youtube_data['title_POS'].max(), youtube_data['title_PRP'].max(),\n",
    "     youtube_data['title_PRP$'].max(), youtube_data['title_RB'].max(), youtube_data['title_RBR'].max(), youtube_data['title_RBS'].max(),\n",
    "     youtube_data['title_RP'].max(), youtube_data['title_TO'].max(), youtube_data['title_UH'].max(), youtube_data['title_VB'].max(),\n",
    "     youtube_data['title_VBD'].max(), youtube_data['title_VBG'].max(), youtube_data['title_VBN'].max(), youtube_data['title_VBP'].max(),\n",
    "     youtube_data['title_VBZ'].max(), youtube_data['title_WDT'].max(), youtube_data['title_WP'].max(), youtube_data['title_WRB'].max())"
   ]
  },
  {
   "cell_type": "code",
   "execution_count": null,
   "metadata": {},
   "outputs": [],
   "source": [
    "posCols = [col for col in youtube_data.columns if 'title_' in col]\n",
    "#allOutliers = youtube_data[youtube_data[\"viewCount\"] >= outlier_start]\n",
    "for colName in posCols:\n",
    "    if (abs(nonOutliers['viewCount'].corr(nonOutliers[colName])) > 0.1):\n",
    "        print(\"YAYYYYYYYYYYYY!\")\n",
    "    print(nonOutliers['viewCount'].corr(nonOutliers[colName]), youtube_data['viewCount'].corr(youtube_data[colName]))"
   ]
  },
  {
   "cell_type": "code",
   "execution_count": null,
   "metadata": {},
   "outputs": [],
   "source": [
    "ggplot(youtube_data, aes(x = \"title_CC\", y = \"viewCount\")) + \\\n",
    "    geom_point() + \\\n",
    "    scale_y_log10() + \\\n",
    "    facet_wrap(\"outlier\", scales=\"free\")"
   ]
  },
  {
   "cell_type": "code",
   "execution_count": null,
   "metadata": {},
   "outputs": [],
   "source": [
    "ggplot(youtube_data, aes(x = \"title_CD\", y = \"viewCount\")) + \\\n",
    "    geom_point()  + \\\n",
    "    scale_y_log10() + \\\n",
    "    facet_wrap(\"outlier\", scales=\"free\")"
   ]
  },
  {
   "cell_type": "code",
   "execution_count": null,
   "metadata": {},
   "outputs": [],
   "source": [
    "ggplot(youtube_data, aes(x = \"title_DT\", y = \"viewCount\")) + \\\n",
    "    geom_point() + \\\n",
    "    scale_y_log10() + \\\n",
    "    facet_wrap(\"outlier\", scales=\"free\")"
   ]
  },
  {
   "cell_type": "code",
   "execution_count": null,
   "metadata": {},
   "outputs": [],
   "source": [
    "ggplot(youtube_data, aes(x = \"title_IN\", y = \"viewCount\")) + \\\n",
    "    geom_point() + \\\n",
    "    facet_wrap(\"outlier\", scales=\"free\")"
   ]
  },
  {
   "cell_type": "code",
   "execution_count": null,
   "metadata": {},
   "outputs": [],
   "source": [
    "ggplot(youtube_data, aes(x = \"title_JJ\", y = \"viewCount\")) + \\\n",
    "    geom_point() + \\\n",
    "    scale_y_log10() + \\\n",
    "    facet_wrap(\"outlier\", scales=\"free\")"
   ]
  },
  {
   "cell_type": "code",
   "execution_count": null,
   "metadata": {},
   "outputs": [],
   "source": [
    "ggplot(youtube_data, aes(x = \"title_JJR\", y = \"viewCount\")) + \\\n",
    "    geom_point() + \\\n",
    "    scale_y_log10() + \\\n",
    "    facet_wrap(\"outlier\", scales=\"free\")"
   ]
  },
  {
   "cell_type": "code",
   "execution_count": null,
   "metadata": {},
   "outputs": [],
   "source": [
    "ggplot(youtube_data, aes(x = \"title_LS\", y = \"viewCount\")) + \\\n",
    "    geom_point()+ \\\n",
    "    scale_y_log10() + \\\n",
    "    facet_wrap(\"outlier\", scales=\"free\")"
   ]
  },
  {
   "cell_type": "code",
   "execution_count": null,
   "metadata": {},
   "outputs": [],
   "source": [
    "ggplot(youtube_data, aes(x = \"title_MD\", y = \"viewCount\")) + \\\n",
    "    geom_point()+ \\\n",
    "    scale_y_log10() + \\\n",
    "    facet_wrap(\"outlier\", scales=\"free\")"
   ]
  },
  {
   "cell_type": "code",
   "execution_count": null,
   "metadata": {},
   "outputs": [],
   "source": [
    "ggplot(youtube_data, aes(x = \"title_NN\", y = \"viewCount\")) + \\\n",
    "    geom_point()+ \\\n",
    "    scale_y_log10() + \\\n",
    "    facet_wrap(\"outlier\", scales=\"free\")"
   ]
  },
  {
   "cell_type": "code",
   "execution_count": null,
   "metadata": {},
   "outputs": [],
   "source": [
    "ggplot(youtube_data, aes(x = \"title_NNP\", y = \"viewCount\")) + \\\n",
    "    geom_point() + \\\n",
    "    scale_y_log10() + \\\n",
    "    facet_wrap(\"outlier\", scales=\"free\")"
   ]
  },
  {
   "cell_type": "code",
   "execution_count": null,
   "metadata": {},
   "outputs": [],
   "source": [
    "ggplot(youtube_data, aes(x = \"title_NNS\", y = \"viewCount\")) + \\\n",
    "    geom_point() + \\\n",
    "    scale_y_log10() + \\\n",
    "    facet_wrap(\"outlier\", scales=\"free\")"
   ]
  },
  {
   "cell_type": "code",
   "execution_count": null,
   "metadata": {},
   "outputs": [],
   "source": [
    "ggplot(youtube_data, aes(x = \"title_PDT\", y = \"viewCount\")) + \\\n",
    "    geom_point()+ \\\n",
    "    scale_y_log10() + \\\n",
    "    facet_wrap(\"outlier\", scales=\"free\")"
   ]
  },
  {
   "cell_type": "code",
   "execution_count": null,
   "metadata": {},
   "outputs": [],
   "source": [
    "ggplot(youtube_data, aes(x = \"title_POS\", y = \"viewCount\")) + \\\n",
    "    geom_point() + \\\n",
    "    scale_y_log10() + \\\n",
    "    facet_wrap(\"outlier\", scales=\"free\")"
   ]
  },
  {
   "cell_type": "code",
   "execution_count": null,
   "metadata": {},
   "outputs": [],
   "source": [
    "ggplot(youtube_data, aes(x = \"title_PRP\", y = \"viewCount\")) + \\\n",
    "    geom_point() + \\\n",
    "    scale_y_log10() + \\\n",
    "    facet_wrap(\"outlier\", scales=\"free\")"
   ]
  },
  {
   "cell_type": "code",
   "execution_count": null,
   "metadata": {},
   "outputs": [],
   "source": [
    "ggplot(youtube_data, aes(x = \"title_PRP$\", y = \"viewCount\")) + \\\n",
    "    geom_point() + \\\n",
    "    scale_y_log10() + \\\n",
    "    facet_wrap(\"outlier\", scales=\"free\")"
   ]
  },
  {
   "cell_type": "code",
   "execution_count": null,
   "metadata": {},
   "outputs": [],
   "source": [
    "ggplot(youtube_data, aes(x = \"title_RB\", y = \"viewCount\")) + \\\n",
    "    geom_point() + \\\n",
    "    scale_y_log10() + \\\n",
    "    facet_wrap(\"outlier\", scales=\"free\")"
   ]
  },
  {
   "cell_type": "code",
   "execution_count": null,
   "metadata": {},
   "outputs": [],
   "source": [
    "ggplot(youtube_data, aes(x = \"title_RBR\", y = \"viewCount\")) + \\\n",
    "    geom_point() + \\\n",
    "    scale_y_log10() + \\\n",
    "    facet_wrap(\"outlier\", scales=\"free\")"
   ]
  },
  {
   "cell_type": "code",
   "execution_count": null,
   "metadata": {},
   "outputs": [],
   "source": [
    "ggplot(youtube_data, aes(x = \"title_RP\", y = \"viewCount\")) + \\\n",
    "    geom_point() + \\\n",
    "    scale_y_log10() + \\\n",
    "    facet_wrap(\"outlier\", scales=\"free\")"
   ]
  },
  {
   "cell_type": "code",
   "execution_count": null,
   "metadata": {},
   "outputs": [],
   "source": [
    "ggplot(youtube_data, aes(x = \"title_TO\", y = \"viewCount\")) + \\\n",
    "    geom_point() + \\\n",
    "    scale_y_log10() + \\\n",
    "    facet_wrap(\"outlier\", scales=\"free\")"
   ]
  },
  {
   "cell_type": "code",
   "execution_count": null,
   "metadata": {},
   "outputs": [],
   "source": [
    "ggplot(youtube_data, aes(x = \"title_UH\", y = \"viewCount\")) + \\\n",
    "    geom_point() + \\\n",
    "    scale_y_log10() + \\\n",
    "    facet_wrap(\"outlier\", scales=\"free\")"
   ]
  },
  {
   "cell_type": "code",
   "execution_count": null,
   "metadata": {},
   "outputs": [],
   "source": [
    "ggplot(youtube_data, aes(x = \"title_VB\", y = \"viewCount\")) + \\\n",
    "    geom_point() + \\\n",
    "    scale_y_log10() + \\\n",
    "    facet_wrap(\"outlier\", scales=\"free\")"
   ]
  },
  {
   "cell_type": "code",
   "execution_count": null,
   "metadata": {},
   "outputs": [],
   "source": [
    "nonOutliers['title_VB'].corr(nonOutliers['viewCount'])"
   ]
  },
  {
   "cell_type": "code",
   "execution_count": null,
   "metadata": {},
   "outputs": [],
   "source": [
    "ggplot(youtube_data, aes(x = \"title_VBD\", y = \"viewCount\")) + \\\n",
    "    geom_point() + \\\n",
    "    scale_y_log10() + \\\n",
    "    facet_wrap(\"outlier\", scales=\"free\")"
   ]
  },
  {
   "cell_type": "code",
   "execution_count": null,
   "metadata": {},
   "outputs": [],
   "source": [
    "ggplot(youtube_data, aes(x = \"title_VBG\", y = \"viewCount\")) + \\\n",
    "    geom_point() + \\\n",
    "    scale_y_log10() + \\\n",
    "    facet_wrap(\"outlier\", scales=\"free\")"
   ]
  },
  {
   "cell_type": "code",
   "execution_count": null,
   "metadata": {},
   "outputs": [],
   "source": [
    "ggplot(youtube_data, aes(x = \"title_VBP\", y = \"viewCount\")) + \\\n",
    "    geom_point() + \\\n",
    "    scale_y_log10() + \\\n",
    "    facet_wrap(\"outlier\", scales=\"free\")"
   ]
  },
  {
   "cell_type": "code",
   "execution_count": null,
   "metadata": {},
   "outputs": [],
   "source": [
    "ggplot(youtube_data, aes(x = \"title_VBZ\", y = \"viewCount\")) + \\\n",
    "    geom_point() + \\\n",
    "    scale_y_log10() + \\\n",
    "    facet_wrap(\"outlier\", scales=\"free\")"
   ]
  },
  {
   "cell_type": "code",
   "execution_count": null,
   "metadata": {},
   "outputs": [],
   "source": [
    "ggplot(youtube_data, aes(x = \"title_WP\", y = \"viewCount\")) + \\\n",
    "    geom_point() + \\\n",
    "    scale_y_log10() + \\\n",
    "    facet_wrap(\"outlier\", scales=\"free\")"
   ]
  },
  {
   "cell_type": "code",
   "execution_count": null,
   "metadata": {},
   "outputs": [],
   "source": [
    "ggplot(youtube_data, aes(x = \"title_WRB\", y = \"viewCount\")) + \\\n",
    "    geom_point() + \\\n",
    "    scale_y_log10() + \\\n",
    "    facet_wrap(\"outlier\", scales=\"free\")"
   ]
  },
  {
   "cell_type": "code",
   "execution_count": 26,
   "metadata": {},
   "outputs": [],
   "source": [
    "from nltk.sentiment.vader import SentimentIntensityAnalyzer\n",
    "analyzer = SentimentIntensityAnalyzer()\n",
    "\n",
    "def getSentimentScore(text, sentimentType):\n",
    "    #sentimentType: compound, neg, neu, pos\n",
    "    return (analyzer.polarity_scores(text)[sentimentType])"
   ]
  },
  {
   "cell_type": "code",
   "execution_count": 27,
   "metadata": {
    "collapsed": true
   },
   "outputs": [],
   "source": [
    "youtube_data['description'] = youtube_data['description'].fillna('')"
   ]
  },
  {
   "cell_type": "code",
   "execution_count": 28,
   "metadata": {},
   "outputs": [],
   "source": [
    "youtube_data['titlePos'] = youtube_data['title'].apply(lambda text : getSentimentScore(text, 'pos'))\n",
    "youtube_data['titleNeg'] = youtube_data['title'].apply(lambda text : getSentimentScore(text, 'neg'))\n",
    "youtube_data['titleNeu'] = youtube_data['title'].apply(lambda text : getSentimentScore(text, 'neu'))\n",
    "youtube_data['titleCompound'] = youtube_data['title'].apply(lambda text : getSentimentScore(text, 'compound'))"
   ]
  },
  {
   "cell_type": "code",
   "execution_count": 29,
   "metadata": {
    "collapsed": true
   },
   "outputs": [],
   "source": [
    "youtube_data['descriptionPos'] = youtube_data['description'].apply(lambda text : getSentimentScore(text, 'pos'))\n",
    "youtube_data['descriptionNeg'] = youtube_data['description'].apply(lambda text : getSentimentScore(text, 'neg'))\n",
    "youtube_data['descriptionNeu'] = youtube_data['description'].apply(lambda text : getSentimentScore(text, 'neu'))\n",
    "youtube_data['descriptionCompound'] = youtube_data['description'].apply(lambda text : getSentimentScore(text, 'compound'))"
   ]
  },
  {
   "cell_type": "code",
   "execution_count": null,
   "metadata": {},
   "outputs": [],
   "source": [
    "ggplot(youtube_data, aes(x = \"titlePos\", y = \"viewCount\")) + \\\n",
    "    geom_point() + \\\n",
    "    scale_y_log10() + \\\n",
    "    scale_x_log10() + \\\n",
    "    facet_wrap(\"outlier\", scales=\"free\")"
   ]
  },
  {
   "cell_type": "code",
   "execution_count": null,
   "metadata": {},
   "outputs": [],
   "source": [
    "ggplot(youtube_data, aes(x = \"titleNeg\", y = \"viewCount\")) + \\\n",
    "    geom_point() + \\\n",
    "    scale_y_log10() + \\\n",
    "    scale_x_log10() + \\\n",
    "    facet_wrap(\"outlier\", scales=\"free\")"
   ]
  },
  {
   "cell_type": "code",
   "execution_count": null,
   "metadata": {},
   "outputs": [],
   "source": [
    "ggplot(youtube_data, aes(x = \"titleNeu\", y = \"viewCount\")) + \\\n",
    "    geom_point() + \\\n",
    "    scale_y_log10() + \\\n",
    "    scale_x_log10() + \\\n",
    "    facet_wrap(\"outlier\", scales=\"free\")\n",
    "\n",
    "#youtube_data['titleNeu'].corr(youtube_data['viewCount'])\n",
    "#nonOutliers['titleNeu'].corr(nonOutliers['viewCount'])"
   ]
  },
  {
   "cell_type": "code",
   "execution_count": null,
   "metadata": {
    "collapsed": true
   },
   "outputs": [],
   "source": [
    "ggplot(youtube_data, aes(x = \"titleCompound\", y = \"viewCount\")) + \\\n",
    "    geom_point() + \\\n",
    "    scale_y_log10() + \\\n",
    "    scale_x_log10() + \\\n",
    "    facet_wrap(\"outlier\", scales=\"free\")"
   ]
  },
  {
   "cell_type": "code",
   "execution_count": null,
   "metadata": {
    "collapsed": true
   },
   "outputs": [],
   "source": [
    "ggplot(youtube_data, aes(x = \"descriptionPos\", y = \"viewCount\")) + \\\n",
    "    geom_point()"
   ]
  },
  {
   "cell_type": "code",
   "execution_count": null,
   "metadata": {
    "collapsed": true
   },
   "outputs": [],
   "source": [
    "ggplot(youtube_data, aes(x = \"descriptionNeg\", y = \"viewCount\")) + \\\n",
    "    geom_point()"
   ]
  },
  {
   "cell_type": "code",
   "execution_count": null,
   "metadata": {
    "collapsed": true
   },
   "outputs": [],
   "source": [
    "ggplot(youtube_data, aes(x = \"descriptionNeu\", y = \"viewCount\")) + \\\n",
    "    geom_point()"
   ]
  },
  {
   "cell_type": "code",
   "execution_count": null,
   "metadata": {
    "collapsed": true
   },
   "outputs": [],
   "source": [
    "ggplot(youtube_data, aes(x = \"descriptionCompound\", y = \"viewCount\")) + \\\n",
    "    geom_point()"
   ]
  },
  {
   "cell_type": "code",
   "execution_count": 30,
   "metadata": {},
   "outputs": [],
   "source": [
    "import re\n",
    "import string\n",
    "def process(text, lemmatizer=nltk.stem.wordnet.WordNetLemmatizer()):\n",
    "    \"\"\" Normalizes case and handles punctuation\n",
    "    Inputs:\n",
    "        text: str: raw text\n",
    "        lemmatizer: an instance of a class implementing the lemmatize() method\n",
    "                    (the default argument is of type nltk.stem.wordnet.WordNetLemmatizer)\n",
    "    Outputs:\n",
    "        list(str): tokenized text\n",
    "    \"\"\"\n",
    "    text = text.lower()\n",
    "    text = re.sub('\\'s', '', text)\n",
    "    text = re.sub('\\'', '', text)\n",
    "    translator = str.maketrans(string.punctuation, ' '*len(string.punctuation))\n",
    "    out = text.translate(translator)\n",
    "    arr = nltk.word_tokenize(out)\n",
    "    ans = []\n",
    "    for word in arr:\n",
    "        try:\n",
    "            w = lemmatizer.lemmatize(word)\n",
    "            ans.append(w)\n",
    "        except:\n",
    "            continue\n",
    "    return ans\n",
    "\n",
    "#youtube_data['title'].str.lower().str.split()\n",
    "#youtube_data['title'].head()"
   ]
  },
  {
   "cell_type": "code",
   "execution_count": 31,
   "metadata": {
    "collapsed": true
   },
   "outputs": [],
   "source": [
    "youtube_data['titleWords'] = youtube_data['title'].apply(lambda x: process(x))"
   ]
  },
  {
   "cell_type": "code",
   "execution_count": 32,
   "metadata": {},
   "outputs": [],
   "source": [
    "words = youtube_data['titleWords'].sum()"
   ]
  },
  {
   "cell_type": "code",
   "execution_count": 33,
   "metadata": {},
   "outputs": [
    {
     "name": "stdout",
     "output_type": "stream",
     "text": [
      "[('the', 13461), ('of', 7031), ('to', 6098), ('2', 5776), ('and', 5738), ('in', 5639), ('a', 5187), ('1', 4293), ('v', 3999), ('on', 3769), ('3', 3542), ('video', 3372), ('how', 3303), ('for', 3171), ('with', 3104), ('by', 3038), ('part', 3002), ('live', 2666), ('at', 2644), ('4', 2416), ('hd', 2360), ('5', 2086), ('new', 2062), ('review', 2045), ('my', 2042), ('music', 1878), ('2012', 1872), ('2013', 1856), ('cover', 1724), ('2011', 1684), ('i', 1657), ('dance', 1642), ('you', 1596), ('2014', 1548), ('2010', 1404), ('game', 1403), ('trailer', 1383), ('official', 1377), ('world', 1366), ('10', 1335), ('day', 1277), ('guitar', 1236), ('from', 1231), ('6', 1172), ('black', 1141), ('me', 1093), ('it', 1091), ('gameplay', 1079), ('your', 1069), ('is', 1063), ('tutorial', 1062), ('dj', 1060), ('2009', 1047), ('up', 1022), ('play', 1008), ('one', 1001), ('all', 998), ('love', 980), ('2015', 980), ('7', 977), ('best', 970), ('show', 962), ('12', 939), ('8', 916), ('11', 913), ('minecraft', 907), ('band', 883), ('episode', 872), ('make', 864), ('final', 855), ('first', 830), ('school', 822), ('song', 806), ('highlight', 792), ('star', 787), ('no', 759), ('car', 757), ('time', 755), ('tour', 748), ('top', 748), ('high', 742), ('x', 741), ('war', 717), ('2008', 715), ('test', 714), ('team', 713), ('piano', 712), ('get', 708), ('com', 661), ('super', 657), ('free', 655), ('night', 649), ('13', 645), ('full', 643), ('9', 643), ('battle', 642), ('out', 637), ('rock', 636), ('unboxing', 631), ('14', 623)]\n"
     ]
    },
    {
     "data": {
      "text/plain": [
       "662575"
      ]
     },
     "execution_count": 33,
     "metadata": {},
     "output_type": "execute_result"
    }
   ],
   "source": [
    "import collections\n",
    "counter = collections.Counter(words)\n",
    "print(counter.most_common(100))\n",
    "len(words)"
   ]
  },
  {
   "cell_type": "code",
   "execution_count": 34,
   "metadata": {},
   "outputs": [
    {
     "name": "stdout",
     "output_type": "stream",
     "text": [
      "[('2', 5776), ('1', 4293), ('v', 3999), ('3', 3542), ('video', 3372), ('part', 3002), ('live', 2666), ('4', 2416), ('hd', 2360), ('5', 2086), ('new', 2062), ('review', 2045), ('music', 1878), ('2012', 1872), ('2013', 1856), ('cover', 1724), ('2011', 1684), ('dance', 1642), ('2014', 1548), ('2010', 1404), ('game', 1403), ('trailer', 1383), ('official', 1377), ('world', 1366), ('10', 1335), ('day', 1277), ('guitar', 1236), ('6', 1172), ('black', 1141), ('gameplay', 1079), ('tutorial', 1062), ('dj', 1060), ('2009', 1047), ('play', 1008), ('one', 1001), ('love', 980), ('2015', 980), ('7', 977), ('best', 970), ('show', 962), ('12', 939), ('8', 916), ('11', 913), ('minecraft', 907), ('band', 883), ('episode', 872), ('make', 864), ('final', 855), ('first', 830), ('school', 822), ('song', 806), ('highlight', 792), ('star', 787), ('car', 757), ('time', 755), ('tour', 748), ('top', 748), ('high', 742), ('x', 741), ('war', 717), ('2008', 715), ('test', 714), ('team', 713), ('piano', 712), ('get', 708), ('com', 661), ('super', 657), ('free', 655), ('night', 649), ('13', 645), ('full', 643), ('9', 643), ('battle', 642), ('rock', 636), ('unboxing', 631), ('14', 623), ('drum', 620), ('gta', 616), ('life', 615), ('man', 604), ('city', 604), ('ft', 592), ('15', 587), ('go', 583), ('remix', 581), ('movie', 563), ('girl', 554), ('big', 554), ('mod', 544), ('0', 540), ('hair', 537), ('let', 527), ('wmv', 522), ('red', 520), ('version', 510), ('tv', 510), ('w', 506), ('call', 504), ('park', 502), ('u', 500)]\n"
     ]
    }
   ],
   "source": [
    "stopwords=nltk.corpus.stopwords.words('english')\n",
    "realWords = collections.Counter()\n",
    "for word in counter:\n",
    "    if word not in stopwords:\n",
    "        realWords[word] += counter[word]\n",
    "len(realWords)\n",
    "print(realWords.most_common(100))"
   ]
  },
  {
   "cell_type": "code",
   "execution_count": 32,
   "metadata": {},
   "outputs": [
    {
     "ename": "KeyboardInterrupt",
     "evalue": "",
     "output_type": "error",
     "traceback": [
      "\u001b[0;31m---------------------------------------------------------------------------\u001b[0m",
      "\u001b[0;31mKeyboardInterrupt\u001b[0m                         Traceback (most recent call last)",
      "\u001b[0;32m<ipython-input-32-d5fdb59f019d>\u001b[0m in \u001b[0;36m<module>\u001b[0;34m()\u001b[0m\n\u001b[1;32m      3\u001b[0m \u001b[1;32mfor\u001b[0m \u001b[0mindex\u001b[0m\u001b[1;33m,\u001b[0m \u001b[0mrow\u001b[0m \u001b[1;32min\u001b[0m \u001b[0myoutube_data\u001b[0m\u001b[1;33m.\u001b[0m\u001b[0miterrows\u001b[0m\u001b[1;33m(\u001b[0m\u001b[1;33m)\u001b[0m\u001b[1;33m:\u001b[0m\u001b[1;33m\u001b[0m\u001b[0m\n\u001b[1;32m      4\u001b[0m     \u001b[1;32mfor\u001b[0m \u001b[0mword\u001b[0m \u001b[1;32min\u001b[0m \u001b[0mrealWords\u001b[0m\u001b[1;33m:\u001b[0m\u001b[1;33m\u001b[0m\u001b[0m\n\u001b[0;32m----> 5\u001b[0;31m         \u001b[1;32mif\u001b[0m \u001b[0mword\u001b[0m \u001b[1;32min\u001b[0m \u001b[0mrow\u001b[0m\u001b[1;33m[\u001b[0m\u001b[1;34m\"titleWords\"\u001b[0m\u001b[1;33m]\u001b[0m\u001b[1;33m:\u001b[0m\u001b[1;33m\u001b[0m\u001b[0m\n\u001b[0m\u001b[1;32m      6\u001b[0m             \u001b[1;32mif\u001b[0m \u001b[0mword\u001b[0m \u001b[1;32min\u001b[0m \u001b[0mwordViewCnt\u001b[0m\u001b[1;33m:\u001b[0m\u001b[1;33m\u001b[0m\u001b[0m\n\u001b[1;32m      7\u001b[0m                 \u001b[0mwordViewCnt\u001b[0m\u001b[1;33m[\u001b[0m\u001b[0mword\u001b[0m\u001b[1;33m]\u001b[0m \u001b[1;33m+=\u001b[0m \u001b[0mrow\u001b[0m\u001b[1;33m[\u001b[0m\u001b[1;34m\"viewCount\"\u001b[0m\u001b[1;33m]\u001b[0m\u001b[1;33m\u001b[0m\u001b[0m\n",
      "\u001b[0;31mKeyboardInterrupt\u001b[0m: "
     ]
    }
   ],
   "source": [
    "wordViewCnt = dict()\n",
    "numVidsPerWord = dict()\n",
    "for index, row in youtube_data.iterrows():\n",
    "    for word in realWords:\n",
    "        if word in row[\"titleWords\"]:\n",
    "            if word in wordViewCnt:\n",
    "                wordViewCnt[word] += row[\"viewCount\"]\n",
    "                numVidsPerWord[word] += 1\n",
    "            else:\n",
    "                wordViewCnt[word] = row[\"viewCount\"]\n",
    "                numVidsPerWord[word] = 1\n",
    "avgViewCntPerWord = dict()\n",
    "for word in realWords:\n",
    "    avgViewCntPerWord[word] = wordViewCnt[word]/numVidsPerWord[word]"
   ]
  },
  {
   "cell_type": "code",
   "execution_count": null,
   "metadata": {},
   "outputs": [],
   "source": [
    "for (word, value) in realWords.most_common(100):\n",
    "    youtube_data1[word] = youtube_data1['titleWords'].apply(lambda title: int(word in title))"
   ]
  },
  {
   "cell_type": "code",
   "execution_count": 35,
   "metadata": {
    "collapsed": true
   },
   "outputs": [],
   "source": [
    "# Write dataframe to PKL file for future use\n",
    "youtube_data.to_pickle(\"youtube_features.pkl\")"
   ]
  },
  {
   "cell_type": "code",
   "execution_count": 8,
   "metadata": {},
   "outputs": [],
   "source": [
    "# Read dataframe from PKL file\n",
    "youtube_data1 = pd.read_pickle(\"youtube_features.pkl\")"
   ]
  },
  {
   "cell_type": "code",
   "execution_count": 9,
   "metadata": {},
   "outputs": [],
   "source": [
    "import math\n",
    "\n",
    "# Separate into data and labels, train vs. test\n",
    "P = np.random.permutation(len(youtube_data1.index))\n",
    "labels = youtube_data1['outlier'].apply(lambda x: 1 if x == 'outlier' else 0)\n",
    "reg_target = youtube_data1['viewCount']\n",
    "feature_cols = [True if col not in ['outlier', 'viewCount', 'title', 'description', 'id', 'tags', 'topics', 'channelTitle', 'titleWords', 'pos_tags', 'pos_freq'] else False for col in youtube_data1.columns]\n",
    "features = youtube_data1.loc[:,  feature_cols]\n",
    "features = features.fillna(0)\n",
    "features_out = features[labels == 1].reset_index() # outlier features\n",
    "features_nonOut = features[labels == 0].reset_index() # nonOutlier features\n",
    "regtarget_out = reg_target[labels == 1].reset_index() # outlier viewCounts\n",
    "regtarget_nonOut = reg_target[labels == 0].reset_index() # nonOutlier viewCounts\n",
    "split_tr = math.ceil(len(P) * 0.60)\n",
    "split_cv = math.ceil(len(P) * 0.80)\n",
    "P_out = np.random.permutation(features_out.shape[0])\n",
    "P_nonOut = np.random.permutation(features_nonOut.shape[0])\n",
    "split_out = math.ceil(len(P_out) * 0.70)\n",
    "split_nonOut = math.ceil(len(P_nonOut) * 0.70)"
   ]
  },
  {
   "cell_type": "code",
   "execution_count": 156,
   "metadata": {
    "scrolled": true
   },
   "outputs": [
    {
     "name": "stdout",
     "output_type": "stream",
     "text": [
      "Index(['commentCount', 'favoriteCount', 'dislikeCount', 'likeCount',\n",
      "       'mean_title', 'max_title', 'min_title', 'topics_features', 'game',\n",
      "       'vehicle', 'video_game', 'concert', 'car', 'title_CC', 'title_CD',\n",
      "       'title_DT', 'title_EX', 'title_IN', 'title_JJ', 'title_JJR',\n",
      "       'title_JJS', 'title_LS', 'title_MD', 'title_NN', 'title_NNP',\n",
      "       'title_NNS', 'title_PDT', 'title_POS', 'title_PRP', 'title_PRP$',\n",
      "       'title_RB', 'title_RBR', 'title_RBS', 'title_RP', 'title_TO',\n",
      "       'title_UH', 'title_VB', 'title_VBD', 'title_VBG', 'title_VBN',\n",
      "       'title_VBP', 'title_VBZ', 'title_WDT', 'title_WP', 'title_WRB',\n",
      "       'titlePos', 'titleNeg', 'titleNeu', 'titleCompound', 'descriptionPos',\n",
      "       'descriptionNeg', 'descriptionNeu', 'descriptionCompound'],\n",
      "      dtype='object')\n",
      "(13097, 54)\n",
      "(79094, 54)\n",
      "(13097,)\n"
     ]
    }
   ],
   "source": [
    "print(features.columns)\n",
    "print(features_out.shape)\n",
    "print(features_nonOut.shape)\n",
    "print(regtarget_out.shape)"
   ]
  },
  {
   "cell_type": "code",
   "execution_count": 10,
   "metadata": {},
   "outputs": [],
   "source": [
    "tr_features, cv_features, te_features = features.loc[P[:split_tr]].as_matrix(), features.loc[P[split_tr:split_cv]].as_matrix(), features.loc[P[split_cv:]].as_matrix()\n",
    "tr_labels, cv_labels, te_labels = labels.loc[P[:split_tr]].as_matrix(), labels.loc[P[split_tr:split_cv]].as_matrix(), labels.loc[P[split_cv:]].as_matrix()\n",
    "tr_reg_target, cv_reg_target, te_reg_target = reg_target[P[:split_tr]].as_matrix(), reg_target[P[split_tr:split_cv]].as_matrix(), reg_target[P[split_cv:]].as_matrix()"
   ]
  },
  {
   "cell_type": "code",
   "execution_count": 11,
   "metadata": {},
   "outputs": [],
   "source": [
    "tr_features_out, te_features_out = features_out.loc[P_out[:split_out]].as_matrix(), features_out.loc[P_out[split_out:]].as_matrix()\n",
    "tr_features_nonOut, te_features_nonOut = features_nonOut.loc[P_nonOut[:split_nonOut]].as_matrix(), features_nonOut.loc[P_nonOut[split_nonOut:]].as_matrix()\n",
    "tr_regtarget_out, te_regtarget_out = regtarget_out.loc[P_out[:split_out]]['viewCount'].values, regtarget_out.loc[P_out[split_out:]]['viewCount'].values\n",
    "tr_regtarget_nonOut, te_regtarget_nonOut = regtarget_nonOut.loc[P_nonOut[:split_nonOut]]['viewCount'].values, regtarget_nonOut.loc[P_nonOut[split_nonOut:]]['viewCount'].values"
   ]
  },
  {
   "cell_type": "code",
   "execution_count": 12,
   "metadata": {},
   "outputs": [
    {
     "ename": "NameError",
     "evalue": "name 'youtube_data' is not defined",
     "output_type": "error",
     "traceback": [
      "\u001b[1;31m---------------------------------------------------------------------------\u001b[0m",
      "\u001b[1;31mNameError\u001b[0m                                 Traceback (most recent call last)",
      "\u001b[1;32m<ipython-input-12-1e9222feb41c>\u001b[0m in \u001b[0;36m<module>\u001b[1;34m()\u001b[0m\n\u001b[1;32m----> 1\u001b[1;33m \u001b[0mprint\u001b[0m\u001b[1;33m(\u001b[0m\u001b[0mlen\u001b[0m\u001b[1;33m(\u001b[0m\u001b[0myoutube_data\u001b[0m\u001b[1;33m.\u001b[0m\u001b[0mcolumns\u001b[0m\u001b[1;33m)\u001b[0m\u001b[1;33m)\u001b[0m\u001b[1;33m\u001b[0m\u001b[0m\n\u001b[0m\u001b[0;32m      2\u001b[0m \u001b[0mprint\u001b[0m\u001b[1;33m(\u001b[0m\u001b[0mtr_features\u001b[0m\u001b[1;33m.\u001b[0m\u001b[0mshape\u001b[0m\u001b[1;33m,\u001b[0m \u001b[0mte_features\u001b[0m\u001b[1;33m.\u001b[0m\u001b[0mshape\u001b[0m\u001b[1;33m)\u001b[0m\u001b[1;33m\u001b[0m\u001b[0m\n\u001b[0;32m      3\u001b[0m \u001b[0mprint\u001b[0m\u001b[1;33m(\u001b[0m\u001b[0mtr_labels\u001b[0m\u001b[1;33m.\u001b[0m\u001b[0mshape\u001b[0m\u001b[1;33m,\u001b[0m \u001b[0mte_labels\u001b[0m\u001b[1;33m.\u001b[0m\u001b[0mshape\u001b[0m\u001b[1;33m)\u001b[0m\u001b[1;33m\u001b[0m\u001b[0m\n\u001b[0;32m      4\u001b[0m \u001b[0mprint\u001b[0m\u001b[1;33m(\u001b[0m\u001b[0mtr_reg_target\u001b[0m\u001b[1;33m.\u001b[0m\u001b[0mshape\u001b[0m\u001b[1;33m,\u001b[0m \u001b[0mte_reg_target\u001b[0m\u001b[1;33m.\u001b[0m\u001b[0mshape\u001b[0m\u001b[1;33m)\u001b[0m\u001b[1;33m\u001b[0m\u001b[0m\n\u001b[0;32m      5\u001b[0m \u001b[0mprint\u001b[0m\u001b[1;33m(\u001b[0m\u001b[0mtr_features_out\u001b[0m\u001b[1;33m.\u001b[0m\u001b[0mshape\u001b[0m\u001b[1;33m,\u001b[0m \u001b[0mte_features_out\u001b[0m\u001b[1;33m.\u001b[0m\u001b[0mshape\u001b[0m\u001b[1;33m)\u001b[0m\u001b[1;33m\u001b[0m\u001b[0m\n",
      "\u001b[1;31mNameError\u001b[0m: name 'youtube_data' is not defined"
     ]
    }
   ],
   "source": [
    "print(len(youtube_data.columns))\n",
    "print(tr_features.shape, te_features.shape)\n",
    "print(tr_labels.shape, te_labels.shape)\n",
    "print(tr_reg_target.shape, te_reg_target.shape)\n",
    "print(tr_features_out.shape, te_features_out.shape)\n",
    "print(tr_features_nonOut.shape, te_features_nonOut.shape)\n",
    "print(tr_regtarget_out.shape, te_regtarget_out.shape)\n",
    "print(tr_regtarget_nonOut.shape, te_regtarget_nonOut.shape)"
   ]
  },
  {
   "cell_type": "code",
   "execution_count": 13,
   "metadata": {},
   "outputs": [
    {
     "name": "stdout",
     "output_type": "stream",
     "text": [
      "Accuracy Classify:  0.9237444408287233\n",
      "Accuracy all Views:  0.6558195031999132\n",
      "Accuracy nonOutlier Views:  0.6398769386378962\n",
      "Accuracy outlier Views:  0.6253499618223467\n"
     ]
    }
   ],
   "source": [
    "from sklearn.ensemble import RandomForestClassifier\n",
    "from sklearn.ensemble import RandomForestRegressor\n",
    "\n",
    "# RandomForest Classifier to differentiate Outliers\n",
    "outlier_clf = RandomForestClassifier()\n",
    "outlier_clf.fit(tr_features, tr_labels)\n",
    "print(\"Accuracy Classify: \", (te_labels == outlier_clf.predict(te_features)).mean())\n",
    "\n",
    "# RandomForest Regressor to predict viewcounts on all data\n",
    "views_rgr = RandomForestRegressor()\n",
    "views_rgr.fit(tr_features, tr_reg_target)\n",
    "error = (te_reg_target - views_rgr.predict(te_features)) <= 100\n",
    "print(\"Accuracy all Views: \", error.mean())\n",
    "\n",
    "# RandomForest Regressor to predict viewcounts on nonOutlier data\n",
    "views_rgr_nonOut = RandomForestRegressor()\n",
    "views_rgr_nonOut.fit(tr_features_nonOut, tr_regtarget_nonOut)\n",
    "error_nonOut = (te_regtarget_nonOut - views_rgr_nonOut.predict(te_features_nonOut)) <= 100\n",
    "print(\"Accuracy nonOutlier Views: \", error_nonOut.mean())\n",
    "\n",
    "# RandomForest Regressor to predict viewcounts on outlier data\n",
    "views_rgr_out = RandomForestRegressor()\n",
    "views_rgr_out.fit(tr_features_out, tr_regtarget_out)\n",
    "error_out = (te_regtarget_out - views_rgr_out.predict(te_features_out)) <= 100\n",
    "print(\"Accuracy outlier Views: \", error_out.mean())"
   ]
  },
  {
   "cell_type": "code",
   "execution_count": 20,
   "metadata": {},
   "outputs": [
    {
     "name": "stdout",
     "output_type": "stream",
     "text": [
      "Accuracy Classify:  0.9202191127020284\n"
     ]
    }
   ],
   "source": [
    "from sklearn.linear_model import SGDClassifier\n",
    "clf = SGDClassifier(loss=\"hinge\", penalty=\"l2\")\n",
    "clf.fit(tr_features, tr_labels)\n",
    "print(\"Accuracy Classify: \", (te_labels == clf.predict(te_features)).mean())"
   ]
  },
  {
   "cell_type": "code",
   "execution_count": 31,
   "metadata": {},
   "outputs": [
    {
     "name": "stdout",
     "output_type": "stream",
     "text": [
      "Accuracy all Views:  0.7128755830350363\n",
      "Accuracy nonOutlier Views:  0.9974713418745785\n",
      "Accuracy outlier Views:  0.0\n"
     ]
    }
   ],
   "source": [
    "from sklearn.linear_model import SGDRegressor\n",
    "views_rgr_sgd = SGDRegressor(penalty=\"l1\")\n",
    "views_rgr_sgd.fit(tr_features, tr_reg_target)\n",
    "error_sgd = (te_reg_target - views_rgr_sgd.predict(te_features)) <= 100\n",
    "print(\"Accuracy all Views: \", error_sgd.mean())\n",
    "\n",
    "views_rgr_nonOut_sgd = SGDRegressor(penalty=\"l1\")\n",
    "views_rgr_nonOut_sgd.fit(tr_features_nonOut, tr_regtarget_nonOut)\n",
    "error_nonOut_sgd = (te_regtarget_nonOut - views_rgr_nonOut_sgd.predict(te_features_nonOut)) <= 100\n",
    "print(\"Accuracy nonOutlier Views: \", error_nonOut_sgd.mean())\n",
    "\n",
    "views_rgr_out_sgd = SGDRegressor(penalty=\"l1\")\n",
    "views_rgr_out_sgd.fit(tr_features_out, tr_regtarget_out)\n",
    "error_out_sgd = (te_regtarget_out - views_rgr_out_sgd.predict(te_features_out)) <= 100\n",
    "print(\"Accuracy outlier Views: \", error_out_sgd.mean())"
   ]
  },
  {
   "cell_type": "code",
   "execution_count": null,
   "metadata": {},
   "outputs": [],
   "source": []
  },
  {
   "cell_type": "code",
   "execution_count": null,
   "metadata": {},
   "outputs": [],
   "source": []
  }
 ],
 "metadata": {
  "kernelspec": {
   "display_name": "Python 3",
   "language": "python",
   "name": "python3"
  },
  "language_info": {
   "codemirror_mode": {
    "name": "ipython",
    "version": 3
   },
   "file_extension": ".py",
   "mimetype": "text/x-python",
   "name": "python",
   "nbconvert_exporter": "python",
   "pygments_lexer": "ipython3",
   "version": "3.6.4"
  }
 },
 "nbformat": 4,
 "nbformat_minor": 2
}
